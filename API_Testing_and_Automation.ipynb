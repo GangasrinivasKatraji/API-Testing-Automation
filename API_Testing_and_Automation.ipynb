{
 "cells": [
  {
   "cell_type": "markdown",
   "metadata": {},
   "source": [
    "<p align=\"center\">\n",
    "  <strong>Mastering API Testing: A Comprehensive Guide with JSONPlaceholder</strong>\n",
    "</p>\n"
   ]
  },
  {
   "cell_type": "markdown",
   "metadata": {},
   "source": [
    "### Introduction\n",
    "- This is designed for testing the JSONPlaceholder API. Whether you’re a developer or just curious about API testing, this notebook will guide you through how to make sure our API functions work as expected.\n",
    "\n",
    "#### What’s in Here?\n",
    "- **API Functions:** We have functions set up to interact with the JSONPlaceholder API. These functions let us fetch posts, get details about specific posts, retrieve comments, and handle creating, updating, and deleting posts. Each function is built with error handling and logging to make it easy to spot and fix any issues.\n",
    "\n",
    "- **Test Cases:** To make sure everything works properly, we’ve written test cases. These tests check that our API functions return the correct results and handle errors as they should. You’ll see the results printed out so you can quickly see if anything’s going wrong.\n",
    "\n",
    "- **Automated Testing:** We use pytest to run all our tests automatically. This way, we can easily check if everything’s working without having to run each test manually. pytest will give us detailed results and errors, making it easier to troubleshoot if something doesn’t go as planned.\n",
    "\n",
    "- **Running Tests Directly:** You can also run individual tests directly from this notebook. This is handy if you want to check a specific function without going through all the automated tests.\n",
    "\n",
    "#### How It’s Organized:\n",
    "- **Setup and Imports:** This section sets up logging and imports the libraries we need for making API calls and running tests.\n",
    "\n",
    "- **API Functions:** Here, we define the functions that interact with the API. These functions handle all the key tasks and include error handling to help with debugging.\n",
    "\n",
    "- **Test Cases:** This part contains the tests that verify our API functions are working correctly. We’ve added print statements to show which tests are running and what the results are.\n",
    "\n",
    "- **Automation Code:** This runs pytest to execute all the tests and shows the results, helping us identify any issues quickly.\n",
    "\n",
    "This is all about making sure our API works smoothly and reliably. Feel free to explore and test the functions, and use the results to make any necessary improvements!"
   ]
  },
  {
   "cell_type": "markdown",
   "metadata": {},
   "source": [
    "#### Setup and Imports"
   ]
  },
  {
   "cell_type": "code",
   "execution_count": 7,
   "metadata": {},
   "outputs": [],
   "source": [
    "import requests\n",
    "import logging\n",
    "import subprocess\n",
    "\n",
    "# Setup logging\n",
    "logging.basicConfig(level=logging.INFO, format='%(asctime)s - %(levelname)s - %(message)s')\n",
    "\n",
    "BASE_URL = \"https://jsonplaceholder.typicode.com\"\n"
   ]
  },
  {
   "cell_type": "markdown",
   "metadata": {},
   "source": [
    "##### Explanation:\n",
    "\n",
    "- Imports necessary libraries ('requests', 'logging', and 'subprocess').\n",
    "- Configures logging to output information and error messages."
   ]
  },
  {
   "cell_type": "markdown",
   "metadata": {},
   "source": [
    "#### API Functions"
   ]
  },
  {
   "cell_type": "code",
   "execution_count": 8,
   "metadata": {},
   "outputs": [],
   "source": [
    "def get_posts():\n",
    "    try:\n",
    "        response = requests.get(f\"{BASE_URL}/posts\")\n",
    "        response.raise_for_status()  # Raise an HTTPError for bad responses\n",
    "        return response\n",
    "    except requests.RequestException as e:\n",
    "        logging.error(f\"Failed to retrieve posts: {e}\")\n",
    "        return None\n",
    "\n",
    "def get_post_by_id(post_id):\n",
    "    try:\n",
    "        response = requests.get(f\"{BASE_URL}/posts/{post_id}\")\n",
    "        response.raise_for_status()\n",
    "        return response\n",
    "    except requests.RequestException as e:\n",
    "        logging.error(f\"Failed to retrieve post with ID {post_id}: {e}\")\n",
    "        return None\n",
    "\n",
    "def get_post_comments(post_id):\n",
    "    try:\n",
    "        response = requests.get(f\"{BASE_URL}/posts/{post_id}/comments\")\n",
    "        response.raise_for_status()\n",
    "        return response\n",
    "    except requests.RequestException as e:\n",
    "        logging.error(f\"Failed to retrieve comments for post ID {post_id}: {e}\")\n",
    "        return None\n",
    "\n",
    "def post_post():\n",
    "    data = {\"title\": \"foo\", \"body\": \"bar\", \"userId\": 1}\n",
    "    try:\n",
    "        response = requests.post(f\"{BASE_URL}/posts\", json=data)\n",
    "        response.raise_for_status()\n",
    "        return response\n",
    "    except requests.RequestException as e:\n",
    "        logging.error(f\"Failed to create post: {e}\")\n",
    "        return None\n",
    "\n",
    "def put_post(post_id):\n",
    "    data = {\"title\": \"foo\", \"body\": \"bar updated\", \"userId\": 1}\n",
    "    try:\n",
    "        response = requests.put(f\"{BASE_URL}/posts/{post_id}\", json=data)\n",
    "        response.raise_for_status()\n",
    "        return response\n",
    "    except requests.RequestException as e:\n",
    "        logging.error(f\"Failed to update post with ID {post_id}: {e}\")\n",
    "        return None\n",
    "\n",
    "def delete_post(post_id):\n",
    "    try:\n",
    "        response = requests.delete(f\"{BASE_URL}/posts/{post_id}\")\n",
    "        response.raise_for_status()\n",
    "        return response\n",
    "    except requests.RequestException as e:\n",
    "        logging.error(f\"Failed to delete post with ID {post_id}: {e}\")\n",
    "        return None\n"
   ]
  },
  {
   "cell_type": "markdown",
   "metadata": {},
   "source": [
    "##### Explanation:\n",
    "\n",
    "- Each function is updated to include error handling using try-except blocks and raise_for_status() to manage HTTP errors.\n",
    "- Logs error messages for debugging."
   ]
  },
  {
   "cell_type": "markdown",
   "metadata": {},
   "source": [
    "#### Test Cases"
   ]
  },
  {
   "cell_type": "code",
   "execution_count": 9,
   "metadata": {},
   "outputs": [],
   "source": [
    "def test_get_posts():\n",
    "    print(\"Running test_get_posts\")\n",
    "    response = get_posts()\n",
    "    assert response is not None\n",
    "    assert response.status_code == 200\n",
    "    assert isinstance(response.json(), list)\n",
    "    assert len(response.json()) > 0\n",
    "\n",
    "def test_get_post_by_id():\n",
    "    print(\"Running test_get_post_by_id\")\n",
    "    response = get_post_by_id(1)\n",
    "    assert response is not None\n",
    "    assert response.status_code == 200\n",
    "    assert response.json().get('id') == 1\n",
    "\n",
    "def test_post_post():\n",
    "    print(\"Running test_post_post\")\n",
    "    response = post_post()\n",
    "    assert response is not None\n",
    "    assert response.status_code == 201\n",
    "    assert response.json().get('title') == 'foo'\n",
    "\n",
    "def test_put_post():\n",
    "    print(\"Running test_put_post\")\n",
    "    response = put_post(1)\n",
    "    assert response is not None\n",
    "    assert response.status_code == 200\n",
    "    assert response.json().get('body') == 'bar updated'\n",
    "\n",
    "def test_delete_post():\n",
    "    print(\"Running test_delete_post\")\n",
    "    delete_response = delete_post(1)\n",
    "    assert delete_response is not None\n",
    "    assert delete_response.status_code == 200\n",
    "\n",
    "    get_response = get_post_by_id(1)\n",
    "    if get_response is not None:\n",
    "        print(f\"Status code after deletion attempt: {get_response.status_code}\")\n",
    "        print(\"Response content:\", get_response.json())\n",
    "\n",
    "    assert get_response is not None\n"
   ]
  },
  {
   "cell_type": "markdown",
   "metadata": {},
   "source": [
    "##### Explanation:\n",
    "\n",
    "- Added print statements for each test function to provide visibility into which tests are running.\n",
    "- Each test function asserts that the API functions work correctly and checks expected results."
   ]
  },
  {
   "cell_type": "markdown",
   "metadata": {},
   "source": [
    "#### Automation Code"
   ]
  },
  {
   "cell_type": "code",
   "execution_count": 10,
   "metadata": {},
   "outputs": [
    {
     "name": "stdout",
     "output_type": "stream",
     "text": [
      "Tests failed:\n",
      "Standard Output:\n",
      "\n",
      "\u001b[33m\u001b[33mno tests ran\u001b[0m\u001b[33m in 1.14s\u001b[0m\u001b[0m\n",
      "\n",
      "Standard Error:\n",
      "\n"
     ]
    }
   ],
   "source": [
    "def run_tests():\n",
    "    try:\n",
    "        result = subprocess.run(['pytest', '--maxfail=1', '--disable-warnings', '-q'], check=True, text=True, capture_output=True)\n",
    "        print(\"Test Results:\")\n",
    "        print(result.stdout)\n",
    "    except subprocess.CalledProcessError as e:\n",
    "        print(\"Tests failed:\")\n",
    "        print(\"Standard Output:\")\n",
    "        print(e.stdout)\n",
    "        print(\"Standard Error:\")\n",
    "        print(e.stderr)\n",
    "\n",
    "# Run tests\n",
    "run_tests()\n"
   ]
  },
  {
   "cell_type": "markdown",
   "metadata": {},
   "source": [
    "##### Explanation:\n",
    "\n",
    "- Uses subprocess.run to execute pytest as an external command.\n",
    "- Captures and prints both the standard output and standard error to help diagnose test failures."
   ]
  },
  {
   "cell_type": "code",
   "execution_count": 11,
   "metadata": {},
   "outputs": [
    {
     "name": "stdout",
     "output_type": "stream",
     "text": [
      "Running test_get_posts\n",
      "Running test_get_post_by_id\n",
      "Running test_post_post\n",
      "Running test_put_post\n",
      "Running test_delete_post\n",
      "Status code after deletion attempt: 200\n",
      "Response content: {'userId': 1, 'id': 1, 'title': 'sunt aut facere repellat provident occaecati excepturi optio reprehenderit', 'body': 'quia et suscipit\\nsuscipit recusandae consequuntur expedita et cum\\nreprehenderit molestiae ut ut quas totam\\nnostrum rerum est autem sunt rem eveniet architecto'}\n",
      "All tests executed.\n"
     ]
    }
   ],
   "source": [
    "# Run individual test functions\n",
    "test_get_posts()\n",
    "test_get_post_by_id()\n",
    "test_post_post()\n",
    "test_put_post()\n",
    "test_delete_post()\n",
    "\n",
    "print(\"All tests executed.\")\n"
   ]
  },
  {
   "cell_type": "markdown",
   "metadata": {},
   "source": [
    "### Conclusion:\n",
    "- This resource has walked you through the process of testing the JSONPlaceholder API effectively. By defining essential API functions, creating robust test cases, and setting up automated testing, you can ensure that the API performs reliably and handles errors properly.\n",
    "\n",
    "Use this approach to enhance your own API testing practices and achieve reliable results. Enjoy your testing journey!"
   ]
  },
  {
   "cell_type": "code",
   "execution_count": null,
   "metadata": {},
   "outputs": [],
   "source": []
  }
 ],
 "metadata": {
  "kernelspec": {
   "display_name": "Python 3",
   "language": "python",
   "name": "python3"
  },
  "language_info": {
   "codemirror_mode": {
    "name": "ipython",
    "version": 3
   },
   "file_extension": ".py",
   "mimetype": "text/x-python",
   "name": "python",
   "nbconvert_exporter": "python",
   "pygments_lexer": "ipython3",
   "version": "3.12.4"
  }
 },
 "nbformat": 4,
 "nbformat_minor": 2
}
